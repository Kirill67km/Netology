{
  "nbformat": 4,
  "nbformat_minor": 0,
  "metadata": {
    "colab": {
      "provenance": [],
      "collapsed_sections": [],
      "authorship_tag": "ABX9TyNJeFiFvLWjSb7aRkvPLPFa",
      "include_colab_link": true
    },
    "kernelspec": {
      "name": "python3",
      "display_name": "Python 3"
    },
    "language_info": {
      "name": "python"
    }
  },
  "cells": [
    {
      "cell_type": "markdown",
      "metadata": {
        "id": "view-in-github",
        "colab_type": "text"
      },
      "source": [
        "<a href=\"https://colab.research.google.com/github/Kirill67km/Netology/blob/main/%D0%94%D0%97.ipynb\" target=\"_parent\"><img src=\"https://colab.research.google.com/assets/colab-badge.svg\" alt=\"Open In Colab\"/></a>"
      ]
    },
    {
      "cell_type": "markdown",
      "source": [
        "# *Задание 1*\n",
        "\n",
        "*Даны 2 переменных, в которых хранятся строки произвольной длины: phrase_1 и phrase_2. Напишите код, который проверяет какая из этих строк длиннее.*\n"
      ],
      "metadata": {
        "id": "XMgSq3MqUSk5"
      }
    },
    {
      "cell_type": "code",
      "execution_count": null,
      "metadata": {
        "id": "ycnCSgEZUGWk"
      },
      "outputs": [],
      "source": [
        "phrase_1 = input('Введите первую фразу: ')\n",
        "phrase_2 = input('Введите вторую фразу: ')\n",
        "if len(phrase_1)>len(phrase_2):\n",
        "  print('Фраза 1 длиннее фразы 2')\n",
        "elif len(phrase_1)==len(phrase_2):\n",
        "  print('Фразы равной длины')\n",
        "else:\n",
        "  print('Фраза 2 длиннее фразы 1')"
      ]
    },
    {
      "cell_type": "markdown",
      "source": [
        "# *Задание 2*\n",
        "\n",
        "*Дана переменная, в которой хранится четырехзначное число (год). Необходимо написать программу, которая выведет, является ли данный год високосным или обычным.*\n",
        "\n"
      ],
      "metadata": {
        "id": "SKTrzb8PVMFK"
      }
    },
    {
      "cell_type": "code",
      "source": [
        "year = int(input('Введите год: '))\n",
        "if year%4==0:\n",
        "  print('високосный год')\n",
        "else:\n",
        "  print('обычный год')"
      ],
      "metadata": {
        "colab": {
          "base_uri": "https://localhost:8080/"
        },
        "id": "a8gT3VD8VN83",
        "outputId": "c5fe88de-ec24-4437-9555-470ada773641"
      },
      "execution_count": null,
      "outputs": [
        {
          "output_type": "stream",
          "name": "stdout",
          "text": [
            "Введите год: 2020\n",
            "високосный год\n"
          ]
        }
      ]
    },
    {
      "cell_type": "markdown",
      "source": [
        "# *Задание 3*\n",
        "*Необходимо написать программу, которая будет запрашивать у пользователя месяц и дату рождения и выводить соответствующий знак зодиака.*"
      ],
      "metadata": {
        "id": "npNPXRpuXTjG"
      }
    },
    {
      "cell_type": "code",
      "source": [
        "day = int(input('Введите день: '))\n",
        "month = input('Введите месяц: ')\n",
        "if month =='декабря':\n",
        "\tastro_sign ='Стрелец' if (day < 22) else 'Козерог'\n",
        "elif month =='января':\n",
        "\tastro_sign ='Козерог' if (day < 20) else 'Водолей'\n",
        "elif month =='февраля':\n",
        "\tastro_sign ='Водолей' if (day < 19) else 'Рыбы'\n",
        "elif month =='марта':\n",
        "\tastro_sign ='Рыбы' if (day < 21) else 'Овен'\n",
        "elif month =='апреля':\n",
        "\tastro_sign ='Овен' if (day < 20) else 'Телец'\n",
        "elif month =='мая':\n",
        "\tastro_sign ='Телец' if (day < 21) else 'Близнецы'\n",
        "elif month =='июня':\n",
        "\tastro_sign ='Близнецы' if (day < 21) else 'Рак'\n",
        "elif month =='июля':\n",
        "\tastro_sign ='Рак' if (day < 23) else 'Лев'\n",
        "elif month =='августа':\n",
        "\tastro_sign ='Лев' if (day < 23) else 'Дева'\n",
        "elif month =='сентября':\n",
        "\tastro_sign ='Дева' if (day < 23) else 'Весы'\n",
        "elif month =='октября':\n",
        "\tastro_sign ='Весы' if (day < 23) else 'Скорпион'\n",
        "elif month =='ноября':\n",
        "\tastro_sign ='Скорпион' if (day < 22) else 'Стрелец'\n",
        "print('Твой знак зодиака :',astro_sign)"
      ],
      "metadata": {
        "colab": {
          "base_uri": "https://localhost:8080/"
        },
        "id": "z9y7Rd98XVcz",
        "outputId": "3fcf6a12-7a2f-445f-aeb7-4f832933065b"
      },
      "execution_count": null,
      "outputs": [
        {
          "output_type": "stream",
          "name": "stdout",
          "text": [
            "Введите день: 12 \n",
            "Введите месяц: июля\n",
            "Твой знак зодиака : Рак\n"
          ]
        }
      ]
    },
    {
      "cell_type": "markdown",
      "source": [
        "# *Задание 4*\n",
        "*Вам нужно написать программу для подбора упаковок по размерам товара. Размеры (ширина, длина, высота) хранятся в переменных (в сантиметрах):*\n",
        "\n",
        "**Используйте следующие правила:**\n",
        "\n",
        "\n",
        "*   если каждое из трех измерений менее или равно 15 сантиметрам, то выведите на экран “Коробка №1”;\n",
        "*   если хотя бы одно из измерений больше 15 сантиметров, но менее 50 сантиметров, то выводите “Коробка №2”;\n",
        "*   если длина товара больше 2 метров, то выводите “Упаковка для лыж”;\n",
        "*   во всех остальных случаях выводите “Стандартная коробка №3”.\n",
        "\n",
        "\n",
        "\n",
        "\n",
        "\n",
        "\n",
        "\n",
        "\n",
        "\n"
      ],
      "metadata": {
        "id": "WQ_fpkj5aMrK"
      }
    },
    {
      "cell_type": "code",
      "source": [
        "width = int(input('Введите ширину: '))\n",
        "length = int(input('Введите длину: '))\n",
        "height = int(input('Введите высоту: '))\n",
        "if width<=15 and length<=15 and height<=15:\n",
        "  print('Коробка №1')\n",
        "elif length>200:\n",
        "  print('Упаковка для лыж')\n",
        "elif 15<width<50 or 15<length<50 or 15<height<50:\n",
        "  print('Коробка №2')\n",
        "else:\n",
        "  print('Стандартная коробка №3')"
      ],
      "metadata": {
        "colab": {
          "base_uri": "https://localhost:8080/"
        },
        "id": "4HXLhFHzaORa",
        "outputId": "5c978e8d-7267-4053-bf44-1950a168e42b"
      },
      "execution_count": null,
      "outputs": [
        {
          "output_type": "stream",
          "name": "stdout",
          "text": [
            "Введите ширину: 20\n",
            "Введите длину: 205\n",
            "Введите высоту: 20\n",
            "Упаковка для лыж\n"
          ]
        }
      ]
    },
    {
      "cell_type": "markdown",
      "source": [
        "# *Задание 5*\n",
        "*Дана переменная, в которой хранится шестизначное число (номер проездного билета). Напишите программу, которая будет определять, является ли данный билет “счастливым”.*\n",
        "\n",
        "**Билет считается счастливым, если сумма первых трех цифр совпадает с суммой последних трех цифр номера **"
      ],
      "metadata": {
        "id": "XIa1CZLr22ds"
      }
    },
    {
      "cell_type": "code",
      "source": [
        "num = input('Введите шестизначный номер билета: ')\n",
        "if int(num[0])+int(num[1])+int(num[2])==int(num[3])+int(num[4])+int(num[5]):\n",
        "  print('Счастливый билет')\n",
        "else:\n",
        "  print('Несчастливый билет')"
      ],
      "metadata": {
        "colab": {
          "base_uri": "https://localhost:8080/"
        },
        "id": "yVRwjG0721Ls",
        "outputId": "e4948976-d112-45db-c610-478b6ba216a7"
      },
      "execution_count": null,
      "outputs": [
        {
          "output_type": "stream",
          "name": "stdout",
          "text": [
            "Введите шестизначный номер билета: 111210\n",
            "Счастливый билет\n"
          ]
        }
      ]
    },
    {
      "cell_type": "markdown",
      "source": [
        "# *Задание 6*\n",
        "*Напишите программу, которая сможет вычислять площади трех фигур (круг, треугольник и прямоугольник). Тип фигуры запрашиваем через пользовательский ввод, после чего делаем запрос характеристик фигуры:*\n",
        "\n",
        "*   если пользователь выбрал круг, запрашиваем его радиус,\n",
        "*   если треугольник – длины трех его сторон;\n",
        "*   если прямоугольник – длины двух его сторон.\n",
        "\n",
        "\n",
        "\n",
        "\n",
        "\n"
      ],
      "metadata": {
        "id": "9ZhNwmCS9wD7"
      }
    },
    {
      "cell_type": "code",
      "source": [
        "\n",
        "figure = input('Введите тип фигуры: ')\n",
        "if figure=='круг':\n",
        "  radius = int(input('Введите радиус фигуры: '))\n",
        "  square_circle = radius**2*3.14\n",
        "  print(square_circle)\n",
        "elif figure=='треугольник':\n",
        "  side_a=int(input('Введите сторону А: '))\n",
        "  side_b=int(input('Введите сторону В: '))\n",
        "  side_c=int(input('Введите сторону С: '))\n",
        "  p=(side_a+side_b+side_c)/2\n",
        "  square_triangle=(p*(p-side_a)*(p-side_b)*(p-side_c))**0.5\n",
        "  print('Площадь треугольника = ', square_triangle)\n",
        "elif figure=='прямоугольник':\n",
        "  side_rectangle_a=int(input('Введите сторону А: '))\n",
        "  side_rectangle_b=int(input('Введите сторону В: '))\n",
        "  square_rectangle = (side_rectangle_a+side_rectangle_b)*2\n",
        "  print('Площадь прямоугольника = ', square_rectangle)"
      ],
      "metadata": {
        "colab": {
          "base_uri": "https://localhost:8080/"
        },
        "id": "Ty2ApUxH9yJW",
        "outputId": "8a907f7f-ac12-41df-b189-5217e831eef3"
      },
      "execution_count": null,
      "outputs": [
        {
          "output_type": "stream",
          "name": "stdout",
          "text": [
            "Введите тип фигуры: прямоугольник\n",
            "Введите сторону А: 2\n",
            "Введите сторону В: 3\n",
            "Площадь прямоугольника =  10\n"
          ]
        }
      ]
    }
  ]
}